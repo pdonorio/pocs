{
 "cells": [
  {
   "cell_type": "markdown",
   "metadata": {},
   "source": [
    "# PoC of attr class saved inside RethinkDB"
   ]
  },
  {
   "cell_type": "markdown",
   "metadata": {},
   "source": [
    "chilling around with `attrs`.\n",
    "\n",
    "Source:\n",
    "https://glyph.twistedmatrix.com/2016/08/attrs.html\n",
    "\n",
    "Documentation:\n",
    "https://attrs.readthedocs.io/en/stable/overview.html"
   ]
  },
  {
   "cell_type": "markdown",
   "metadata": {},
   "source": [
    "## Database preparation"
   ]
  },
  {
   "cell_type": "code",
   "execution_count": 1,
   "metadata": {
    "collapsed": false
   },
   "outputs": [],
   "source": [
    "import rethinkdb as r\n",
    "\n",
    "# variables\n",
    "host = 'dbr'\n",
    "db = 'mydb'\n",
    "table = 'mytable'"
   ]
  },
  {
   "cell_type": "code",
   "execution_count": 2,
   "metadata": {
    "collapsed": false
   },
   "outputs": [],
   "source": [
    "r.connect(host=host).repl()\n",
    "\n",
    "# Watch out\n",
    "\n",
    "if db in r.db_list().run():\n",
    "    r.db_drop(db).run()\n",
    "r.db_create(db).run()\n",
    "\n",
    "if table not in r.db(db).table_list().run():\n",
    "    r.db(db).table_create(table).run()\n"
   ]
  },
  {
   "cell_type": "markdown",
   "metadata": {},
   "source": [
    "## Class preparation"
   ]
  },
  {
   "cell_type": "code",
   "execution_count": 3,
   "metadata": {
    "collapsed": false
   },
   "outputs": [
    {
     "data": {
      "text/plain": [
       "MyClass(x=1, y=2)"
      ]
     },
     "execution_count": 3,
     "metadata": {},
     "output_type": "execute_result"
    }
   ],
   "source": [
    "import attr\n",
    "\n",
    "@attr.s\n",
    "class MyClass(object):\n",
    "    x = attr.ib()\n",
    "    y = attr.ib()\n",
    "\n",
    "test = MyClass(x=1, y=2)\n",
    "test"
   ]
  },
  {
   "cell_type": "markdown",
   "metadata": {},
   "source": [
    "## Save the object"
   ]
  },
  {
   "cell_type": "code",
   "execution_count": 4,
   "metadata": {
    "collapsed": false
   },
   "outputs": [
    {
     "data": {
      "text/plain": [
       "{'deleted': 0,\n",
       " 'errors': 0,\n",
       " 'generated_keys': ['3e8a16f8-b74c-4fa6-80c4-bda7d2a0aa1e'],\n",
       " 'inserted': 1,\n",
       " 'replaced': 0,\n",
       " 'skipped': 0,\n",
       " 'unchanged': 0}"
      ]
     },
     "execution_count": 4,
     "metadata": {},
     "output_type": "execute_result"
    }
   ],
   "source": [
    "query = r.db(db).table(table)\n",
    "\n",
    "query.insert(attr.asdict(test)).run()"
   ]
  },
  {
   "cell_type": "markdown",
   "metadata": {},
   "source": [
    "## Recover the object"
   ]
  },
  {
   "cell_type": "code",
   "execution_count": 5,
   "metadata": {
    "collapsed": false
   },
   "outputs": [],
   "source": [
    "args = list(query.run()).pop()\n",
    "args.pop('id')\n",
    "test2 = MyClass(**args)"
   ]
  },
  {
   "cell_type": "code",
   "execution_count": 6,
   "metadata": {
    "collapsed": false
   },
   "outputs": [
    {
     "data": {
      "text/plain": [
       "True"
      ]
     },
     "execution_count": 6,
     "metadata": {},
     "output_type": "execute_result"
    }
   ],
   "source": [
    "test == test2"
   ]
  }
 ],
 "metadata": {
  "kernelspec": {
   "display_name": "Python 3",
   "language": "python",
   "name": "python3"
  },
  "language_info": {
   "codemirror_mode": {
    "name": "ipython",
    "version": 3
   },
   "file_extension": ".py",
   "mimetype": "text/x-python",
   "name": "python",
   "nbconvert_exporter": "python",
   "pygments_lexer": "ipython3",
   "version": "3.5.2"
  }
 },
 "nbformat": 4,
 "nbformat_minor": 1
}

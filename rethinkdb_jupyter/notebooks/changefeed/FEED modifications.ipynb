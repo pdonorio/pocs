{
 "cells": [
  {
   "cell_type": "markdown",
   "metadata": {},
   "source": [
    "# Changefeed experiments - 2\n",
    "\n",
    "with [rethinkdb](https://rethinkdb.com/docs/changefeeds/python/)"
   ]
  },
  {
   "cell_type": "code",
   "execution_count": 3,
   "metadata": {
    "collapsed": false
   },
   "outputs": [],
   "source": [
    "# Load the driver\n",
    "import rethinkdb as r\n",
    "import sys\n",
    "from beeprint import pp\n",
    "\n",
    "# variables\n",
    "host = 'localhost'\n",
    "db = 'mydb'\n",
    "table = 'mytable'\n",
    "\n",
    "# connect and create\n",
    "r.connect(host=host).repl()\n",
    "\n",
    "# implement actions\n",
    "query = r.db(db).table(table)"
   ]
  },
  {
   "cell_type": "markdown",
   "metadata": {},
   "source": [
    "Access the [internal dashboard](http://130.186.13.151:4327/#dataexplorer) to see what is happening,\n",
    "\n",
    "e.g. with the javascript command\n",
    "\n",
    "```javascript\n",
    "r.db('mydb').table('mytable')\n",
    "```\n",
    "\n"
   ]
  },
  {
   "cell_type": "code",
   "execution_count": 5,
   "metadata": {
    "collapsed": false
   },
   "outputs": [
    {
     "data": {
      "text/plain": [
       "{'deleted': 0,\n",
       " 'errors': 0,\n",
       " 'generated_keys': ['40587705-d7df-45aa-a3cc-cf074aca2226'],\n",
       " 'inserted': 1,\n",
       " 'replaced': 0,\n",
       " 'skipped': 0,\n",
       " 'unchanged': 0}"
      ]
     },
     "execution_count": 5,
     "metadata": {},
     "output_type": "execute_result"
    }
   ],
   "source": [
    "# Do a few inserts\n",
    "\n",
    "query.insert({'key1': 'value1', 'key2': 'value2'}).run()\n",
    "\n",
    "query.insert({'key1': 'value1', 'key2': 'value2'}).run()\n",
    "\n",
    "query.insert({'key1': 'value3', 'key2': 'value4'}).run()"
   ]
  },
  {
   "cell_type": "code",
   "execution_count": 6,
   "metadata": {
    "collapsed": false
   },
   "outputs": [
    {
     "data": {
      "text/plain": [
       "{'deleted': 0,\n",
       " 'errors': 0,\n",
       " 'inserted': 0,\n",
       " 'replaced': 4,\n",
       " 'skipped': 0,\n",
       " 'unchanged': 0}"
      ]
     },
     "execution_count": 6,
     "metadata": {},
     "output_type": "execute_result"
    }
   ],
   "source": [
    "# Make update\n",
    "\n",
    "query.filter({'key1': 'value1'}).update({'key1': 'UPDATED!'}).run()"
   ]
  },
  {
   "cell_type": "code",
   "execution_count": 7,
   "metadata": {
    "collapsed": false
   },
   "outputs": [
    {
     "data": {
      "text/plain": [
       "{'config_changes': [{'new_val': None,\n",
       "   'old_val': {'id': '3f6be08c-7f52-4ada-b2b4-5ba5f8a37b90', 'name': 'mydb'}}],\n",
       " 'dbs_dropped': 1,\n",
       " 'tables_dropped': 1}"
      ]
     },
     "execution_count": 7,
     "metadata": {},
     "output_type": "execute_result"
    }
   ],
   "source": [
    "\n",
    "# Drop dp, this will break the changefeed\n",
    "\n",
    "r.db_drop(db).run()"
   ]
  }
 ],
 "metadata": {
  "kernelspec": {
   "display_name": "Python 3",
   "language": "python",
   "name": "python3"
  },
  "language_info": {
   "codemirror_mode": {
    "name": "ipython",
    "version": 3
   },
   "file_extension": ".py",
   "mimetype": "text/x-python",
   "name": "python",
   "nbconvert_exporter": "python",
   "pygments_lexer": "ipython3",
   "version": "3.5.2"
  }
 },
 "nbformat": 4,
 "nbformat_minor": 1
}

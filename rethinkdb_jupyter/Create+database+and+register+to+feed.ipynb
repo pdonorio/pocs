{
 "cells": [
  {
   "cell_type": "markdown",
   "metadata": {},
   "source": [
    "# Changefeed experiments - 1\n",
    "\n",
    "with [rethinkdb](https://rethinkdb.com/docs/changefeeds/python/)"
   ]
  },
  {
   "cell_type": "code",
   "execution_count": 8,
   "metadata": {
    "collapsed": false
   },
   "outputs": [],
   "source": [
    "# Load the driver\n",
    "import rethinkdb as r\n",
    "import sys\n",
    "from beeprint import pp\n",
    "\n",
    "# variables\n",
    "host = 'localhost'\n",
    "db = 'mydb'\n",
    "table = 'mytable'\n",
    "\n",
    "# connect and create\n",
    "r.connect(host=host).repl()\n",
    "if db not in r.db_list().run():\n",
    "    r.db_create(db).run()\n",
    "if table not in r.db(db).table_list().run():\n",
    "    r.db(db).table_create(table).run()\n"
   ]
  },
  {
   "cell_type": "markdown",
   "metadata": {},
   "source": [
    "Access the [internal dashboard](http://130.186.13.151:4327/#dataexplorer) to see what is happening,\n",
    "\n",
    "e.g. with the javascript command\n",
    "\n",
    "```javascript\n",
    "r.db('mydb').table('mytable')\n",
    "```\n",
    "\n"
   ]
  },
  {
   "cell_type": "code",
   "execution_count": 9,
   "metadata": {
    "collapsed": false
   },
   "outputs": [
    {
     "name": "stdout",
     "output_type": "stream",
     "text": [
      "Subscription update!\n",
      "{\n",
      "  'new_val': {\n",
      "    'id': '2a8a8adc-887d-4e49-be3c-8be9e60fe317',\n",
      "    'key1': 'value1',\n",
      "    'key2': 'value2',\n",
      "  },\n",
      "  'old_val': None,\n",
      "}\n",
      "Subscription update!\n",
      "{\n",
      "  'new_val': {\n",
      "    'id': '82f19bbc-84c9-45e4-b12c-d94fff27dde2',\n",
      "    'key1': 'value1',\n",
      "    'key2': 'value2',\n",
      "  },\n",
      "  'old_val': None,\n",
      "}\n",
      "Subscription update!\n",
      "{\n",
      "  'new_val': {\n",
      "    'id': '40587705-d7df-45aa-a3cc-cf074aca2226',\n",
      "    'key1': 'value3',\n",
      "    'key2': 'value4',\n",
      "  },\n",
      "  'old_val': None,\n",
      "}\n",
      "Subscription update!\n",
      "{\n",
      "  'new_val': {\n",
      "    'id': 'c3e934e4-5586-4ee8-b95f-de1a670848ff',\n",
      "    'key1': 'UPDATED!',\n",
      "    'key2': 'value2',\n",
      "  },\n",
      "  'old_val': {\n",
      "    'id': 'c3e934e4-5586-4ee8-b95f-de1a670848ff',\n",
      "    'key1': 'value1',\n",
      "    'key2': 'value2',\n",
      "  },\n",
      "}\n",
      "Subscription update!\n",
      "{\n",
      "  'new_val': {\n",
      "    'id': '2a8a8adc-887d-4e49-be3c-8be9e60fe317',\n",
      "    'key1': 'UPDATED!',\n",
      "    'key2': 'value2',\n",
      "  },\n",
      "  'old_val': {\n",
      "    'id': '2a8a8adc-887d-4e49-be3c-8be9e60fe317',\n",
      "    'key1': 'value1',\n",
      "    'key2': 'value2',\n",
      "  },\n",
      "}\n",
      "Subscription update!\n",
      "{\n",
      "  'new_val': {\n",
      "    'id': 'b15685c2-49e2-44ce-9900-a2cc0c5b08c0',\n",
      "    'key1': 'UPDATED!',\n",
      "    'key2': 'value2',\n",
      "  },\n",
      "  'old_val': {\n",
      "    'id': 'b15685c2-49e2-44ce-9900-a2cc0c5b08c0',\n",
      "    'key1': 'value1',\n",
      "    'key2': 'value2',\n",
      "  },\n",
      "}\n",
      "Subscription update!\n",
      "{\n",
      "  'new_val': {\n",
      "    'id': '82f19bbc-84c9-45e4-b12c-d94fff27dde2',\n",
      "    'key1': 'UPDATED!',\n",
      "    'key2': 'value2',\n",
      "  },\n",
      "  'old_val': {\n",
      "    'id': '82f19bbc-84c9-45e4-b12c-d94fff27dde2',\n",
      "    'key1': 'value1',\n",
      "    'key2': 'value2',\n",
      "  },\n",
      "}\n",
      "Table removed or connection aborted\n"
     ]
    }
   ],
   "source": [
    "# register this notebook to modifications\n",
    "query = r.db(db).table(table)\n",
    "\n",
    "try:\n",
    "    for change in query.changes().run():\n",
    "        print(\"Subscription update!\")\n",
    "        pp(change)\n",
    "except Exception as e:\n",
    "    print(\"Table removed or connection aborted\")\n"
   ]
  }
 ],
 "metadata": {
  "kernelspec": {
   "display_name": "Python 3",
   "language": "python",
   "name": "python3"
  },
  "language_info": {
   "codemirror_mode": {
    "name": "ipython",
    "version": 3
   },
   "file_extension": ".py",
   "mimetype": "text/x-python",
   "name": "python",
   "nbconvert_exporter": "python",
   "pygments_lexer": "ipython3",
   "version": "3.5.2"
  }
 },
 "nbformat": 4,
 "nbformat_minor": 1
}

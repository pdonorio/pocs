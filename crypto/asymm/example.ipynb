{
 "cells": [
  {
   "cell_type": "markdown",
   "metadata": {
    "slideshow": {
     "slide_type": "slide"
    }
   },
   "source": [
    "# Messages encryption"
   ]
  },
  {
   "cell_type": "markdown",
   "metadata": {
    "slideshow": {
     "slide_type": "slide"
    }
   },
   "source": [
    "> Symmetric cryptography use the same cryptographic keys for both encryption of plaintext and decryption of ciphertext.\n",
    "\n",
    "src: *wikipedia*"
   ]
  },
  {
   "cell_type": "markdown",
   "metadata": {
    "slideshow": {
     "slide_type": "subslide"
    }
   },
   "source": [
    "While **Asymmetric cryptography** produces two (matemathically related) keys:\n",
    "\n",
    "- a private key\n",
    "- a public key"
   ]
  },
  {
   "cell_type": "code",
   "execution_count": 8,
   "metadata": {
    "slideshow": {
     "slide_type": "subslide"
    }
   },
   "outputs": [],
   "source": [
    "# prepare Python env by importing libraries\n",
    "# (code based on https://gist.github.com/syedrakib/241b68f5aeaefd7ef8e2)\n",
    "\n",
    "from Crypto import Random         # good pseudo randomness is the base of secure private keys\n",
    "from Crypto.PublicKey import RSA  # we use RSA as hash function\n",
    "import base64                     # encode cypher for easier reading"
   ]
  },
  {
   "cell_type": "markdown",
   "metadata": {
    "slideshow": {
     "slide_type": "slide"
    }
   },
   "source": [
    "## 1. prepare the two keys"
   ]
  },
  {
   "cell_type": "code",
   "execution_count": 9,
   "metadata": {
    "slideshow": {
     "slide_type": "subslide"
    }
   },
   "outputs": [],
   "source": [
    "def generate_keys():\n",
    "\t# RSA modulus length must be a multiple of 256 and >= 1024\n",
    "\tmodulus_length = 256*4 # use larger value in production\n",
    "\tprivatekey = RSA.generate(modulus_length, Random.new().read)\n",
    "\tpublickey = privatekey.publickey()\n",
    "\treturn privatekey, publickey"
   ]
  },
  {
   "cell_type": "code",
   "execution_count": 10,
   "metadata": {
    "slideshow": {
     "slide_type": "subslide"
    }
   },
   "outputs": [],
   "source": [
    "privatekey , publickey = generate_keys()"
   ]
  },
  {
   "cell_type": "code",
   "execution_count": 11,
   "metadata": {
    "slideshow": {
     "slide_type": "fragment"
    }
   },
   "outputs": [
    {
     "data": {
      "text/plain": [
       "<_RSAobj @0x10b9ee128 n(1024),e,d,p,q,u,private>"
      ]
     },
     "execution_count": 11,
     "metadata": {},
     "output_type": "execute_result"
    }
   ],
   "source": [
    "privatekey"
   ]
  },
  {
   "cell_type": "code",
   "execution_count": 12,
   "metadata": {
    "slideshow": {
     "slide_type": "fragment"
    }
   },
   "outputs": [
    {
     "data": {
      "text/plain": [
       "<_RSAobj @0x10b9ee080 n(1024),e>"
      ]
     },
     "execution_count": 12,
     "metadata": {},
     "output_type": "execute_result"
    }
   ],
   "source": [
    "publickey"
   ]
  },
  {
   "cell_type": "markdown",
   "metadata": {
    "slideshow": {
     "slide_type": "fragment"
    }
   },
   "source": [
    "You give this public key to the world!"
   ]
  },
  {
   "cell_type": "markdown",
   "metadata": {
    "slideshow": {
     "slide_type": "fragment"
    }
   },
   "source": [
    "So they anyone can send you a text that only you, with the corresponding private key, can decypher"
   ]
  },
  {
   "cell_type": "markdown",
   "metadata": {
    "slideshow": {
     "slide_type": "slide"
    }
   },
   "source": [
    "## 2. encryption\n",
    "someone will produce a cypher text from a plain text with your public key"
   ]
  },
  {
   "cell_type": "code",
   "execution_count": 13,
   "metadata": {
    "slideshow": {
     "slide_type": "subslide"
    }
   },
   "outputs": [],
   "source": [
    "def encrypt_message(a_message , publickey):\n",
    "\tencrypted_msg = publickey.encrypt(a_message.encode('utf-8'), 32)[0]\n",
    "\tencoded_encrypted_msg = base64.b64encode(encrypted_msg) # base64 encoded strings are database friendly\n",
    "\treturn encoded_encrypted_msg"
   ]
  },
  {
   "cell_type": "code",
   "execution_count": 14,
   "metadata": {
    "slideshow": {
     "slide_type": "subslide"
    }
   },
   "outputs": [],
   "source": [
    "plaintext = \"The quick brown fox jumped over the lazy dog\""
   ]
  },
  {
   "cell_type": "code",
   "execution_count": 15,
   "metadata": {
    "slideshow": {
     "slide_type": "fragment"
    }
   },
   "outputs": [],
   "source": [
    "cyphertext = encrypt_message(plaintext , publickey)"
   ]
  },
  {
   "cell_type": "code",
   "execution_count": 16,
   "metadata": {
    "slideshow": {
     "slide_type": "fragment"
    }
   },
   "outputs": [
    {
     "data": {
      "text/plain": [
       "b'dS0gtI9eM1q2CaDCaQI8MPl9syBedB7XDOZMmJtAXJFB0P0kjDv3CMvOE2+Hj7i/H7j4IeIGVQCrVzAsrlsYI+/xFfwXDO8PpNxKdc3OYzWTHwaXLPs1IYp3tByDIo0aye0t2x3/MI6oCtAlLy15WSqrhdRCdzScgrOSu3oYLjY='"
      ]
     },
     "execution_count": 16,
     "metadata": {},
     "output_type": "execute_result"
    }
   ],
   "source": [
    "cyphertext "
   ]
  },
  {
   "cell_type": "markdown",
   "metadata": {
    "slideshow": {
     "slide_type": "slide"
    }
   },
   "source": [
    "## 3. decryption\n",
    "get back the plain text from a cypher text based on our public key"
   ]
  },
  {
   "cell_type": "code",
   "execution_count": 17,
   "metadata": {
    "slideshow": {
     "slide_type": "subslide"
    }
   },
   "outputs": [],
   "source": [
    "def decrypt_message(encoded_encrypted_msg, privatekey):\n",
    "\tdecoded_encrypted_msg = base64.b64decode(encoded_encrypted_msg)\n",
    "\tdecoded_decrypted_msg = privatekey.decrypt(decoded_encrypted_msg)\n",
    "\treturn decoded_decrypted_msg"
   ]
  },
  {
   "cell_type": "code",
   "execution_count": 19,
   "metadata": {
    "slideshow": {
     "slide_type": "subslide"
    }
   },
   "outputs": [],
   "source": [
    "decrypted_msg = decrypt_message(cyphertext, privatekey)"
   ]
  },
  {
   "cell_type": "code",
   "execution_count": 20,
   "metadata": {
    "slideshow": {
     "slide_type": "fragment"
    }
   },
   "outputs": [
    {
     "data": {
      "text/plain": [
       "b'The quick brown fox jumped over the lazy dog'"
      ]
     },
     "execution_count": 20,
     "metadata": {},
     "output_type": "execute_result"
    }
   ],
   "source": [
    "decrypted_msg"
   ]
  },
  {
   "cell_type": "markdown",
   "metadata": {
    "slideshow": {
     "slide_type": "slide"
    }
   },
   "source": [
    "the end `:)`"
   ]
  }
 ],
 "metadata": {
  "celltoolbar": "Slideshow",
  "kernelspec": {
   "display_name": "Python 3",
   "language": "python",
   "name": "python3"
  },
  "language_info": {
   "codemirror_mode": {
    "name": "ipython",
    "version": 3
   },
   "file_extension": ".py",
   "mimetype": "text/x-python",
   "name": "python",
   "nbconvert_exporter": "python",
   "pygments_lexer": "ipython3",
   "version": "3.6.2"
  }
 },
 "nbformat": 4,
 "nbformat_minor": 2
}
